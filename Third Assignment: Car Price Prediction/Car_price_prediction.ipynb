{
 "cells": [
  {
   "cell_type": "markdown",
   "id": "210c1222",
   "metadata": {},
   "source": [
    "# Car Price Prediction"
   ]
  },
  {
   "cell_type": "code",
   "execution_count": 1,
   "id": "c2fff501",
   "metadata": {},
   "outputs": [],
   "source": [
    "# import the necessary libraries\n",
    "import numpy as np\n",
    "import pandas as pd\n",
    "import seaborn as sns\n",
    "import matplotlib.pyplot as plt\n",
    "from sklearn.model_selection import train_test_split\n",
    "from sklearn.metrics import mutual_info_score\n",
    "from sklearn.feature_extraction import DictVectorizer\n",
    "from sklearn.linear_model import LogisticRegression\n",
    "from sklearn.preprocessing import OneHotEncoder\n",
    "from sklearn.metrics import accuracy_score\n",
    "from sklearn.feature_selection import mutual_info_classif\n",
    "from sklearn.metrics import confusion_matrix, ConfusionMatrixDisplay\n",
    "from sklearn.feature_selection import SelectKBest\n",
    "from sklearn.feature_selection import chi2\n",
    "from sklearn.linear_model import Ridge\n",
    "from sklearn.metrics import mean_squared_error\n",
    "\n",
    "import warnings\n",
    "warnings.filterwarnings(\"ignore\")\n"
   ]
  },
  {
   "cell_type": "code",
   "execution_count": null,
   "id": "494de194",
   "metadata": {},
   "outputs": [],
   "source": []
  },
  {
   "cell_type": "code",
   "execution_count": 2,
   "id": "22f51dd6",
   "metadata": {},
   "outputs": [
    {
     "data": {
      "text/html": [
       "<div>\n",
       "<style scoped>\n",
       "    .dataframe tbody tr th:only-of-type {\n",
       "        vertical-align: middle;\n",
       "    }\n",
       "\n",
       "    .dataframe tbody tr th {\n",
       "        vertical-align: top;\n",
       "    }\n",
       "\n",
       "    .dataframe thead th {\n",
       "        text-align: right;\n",
       "    }\n",
       "</style>\n",
       "<table border=\"1\" class=\"dataframe\">\n",
       "  <thead>\n",
       "    <tr style=\"text-align: right;\">\n",
       "      <th></th>\n",
       "      <th>Make</th>\n",
       "      <th>Model</th>\n",
       "      <th>Year</th>\n",
       "      <th>Engine Fuel Type</th>\n",
       "      <th>Engine HP</th>\n",
       "      <th>Engine Cylinders</th>\n",
       "      <th>Transmission Type</th>\n",
       "      <th>Driven_Wheels</th>\n",
       "      <th>Number of Doors</th>\n",
       "      <th>Market Category</th>\n",
       "      <th>Vehicle Size</th>\n",
       "      <th>Vehicle Style</th>\n",
       "      <th>highway MPG</th>\n",
       "      <th>city mpg</th>\n",
       "      <th>Popularity</th>\n",
       "      <th>MSRP</th>\n",
       "    </tr>\n",
       "  </thead>\n",
       "  <tbody>\n",
       "    <tr>\n",
       "      <th>0</th>\n",
       "      <td>BMW</td>\n",
       "      <td>1 Series M</td>\n",
       "      <td>2011</td>\n",
       "      <td>premium unleaded (required)</td>\n",
       "      <td>335.0</td>\n",
       "      <td>6.0</td>\n",
       "      <td>MANUAL</td>\n",
       "      <td>rear wheel drive</td>\n",
       "      <td>2.0</td>\n",
       "      <td>Factory Tuner,Luxury,High-Performance</td>\n",
       "      <td>Compact</td>\n",
       "      <td>Coupe</td>\n",
       "      <td>26</td>\n",
       "      <td>19</td>\n",
       "      <td>3916</td>\n",
       "      <td>46135</td>\n",
       "    </tr>\n",
       "    <tr>\n",
       "      <th>1</th>\n",
       "      <td>BMW</td>\n",
       "      <td>1 Series</td>\n",
       "      <td>2011</td>\n",
       "      <td>premium unleaded (required)</td>\n",
       "      <td>300.0</td>\n",
       "      <td>6.0</td>\n",
       "      <td>MANUAL</td>\n",
       "      <td>rear wheel drive</td>\n",
       "      <td>2.0</td>\n",
       "      <td>Luxury,Performance</td>\n",
       "      <td>Compact</td>\n",
       "      <td>Convertible</td>\n",
       "      <td>28</td>\n",
       "      <td>19</td>\n",
       "      <td>3916</td>\n",
       "      <td>40650</td>\n",
       "    </tr>\n",
       "    <tr>\n",
       "      <th>2</th>\n",
       "      <td>BMW</td>\n",
       "      <td>1 Series</td>\n",
       "      <td>2011</td>\n",
       "      <td>premium unleaded (required)</td>\n",
       "      <td>300.0</td>\n",
       "      <td>6.0</td>\n",
       "      <td>MANUAL</td>\n",
       "      <td>rear wheel drive</td>\n",
       "      <td>2.0</td>\n",
       "      <td>Luxury,High-Performance</td>\n",
       "      <td>Compact</td>\n",
       "      <td>Coupe</td>\n",
       "      <td>28</td>\n",
       "      <td>20</td>\n",
       "      <td>3916</td>\n",
       "      <td>36350</td>\n",
       "    </tr>\n",
       "    <tr>\n",
       "      <th>3</th>\n",
       "      <td>BMW</td>\n",
       "      <td>1 Series</td>\n",
       "      <td>2011</td>\n",
       "      <td>premium unleaded (required)</td>\n",
       "      <td>230.0</td>\n",
       "      <td>6.0</td>\n",
       "      <td>MANUAL</td>\n",
       "      <td>rear wheel drive</td>\n",
       "      <td>2.0</td>\n",
       "      <td>Luxury,Performance</td>\n",
       "      <td>Compact</td>\n",
       "      <td>Coupe</td>\n",
       "      <td>28</td>\n",
       "      <td>18</td>\n",
       "      <td>3916</td>\n",
       "      <td>29450</td>\n",
       "    </tr>\n",
       "    <tr>\n",
       "      <th>4</th>\n",
       "      <td>BMW</td>\n",
       "      <td>1 Series</td>\n",
       "      <td>2011</td>\n",
       "      <td>premium unleaded (required)</td>\n",
       "      <td>230.0</td>\n",
       "      <td>6.0</td>\n",
       "      <td>MANUAL</td>\n",
       "      <td>rear wheel drive</td>\n",
       "      <td>2.0</td>\n",
       "      <td>Luxury</td>\n",
       "      <td>Compact</td>\n",
       "      <td>Convertible</td>\n",
       "      <td>28</td>\n",
       "      <td>18</td>\n",
       "      <td>3916</td>\n",
       "      <td>34500</td>\n",
       "    </tr>\n",
       "  </tbody>\n",
       "</table>\n",
       "</div>"
      ],
      "text/plain": [
       "  Make       Model  Year             Engine Fuel Type  Engine HP  \\\n",
       "0  BMW  1 Series M  2011  premium unleaded (required)      335.0   \n",
       "1  BMW    1 Series  2011  premium unleaded (required)      300.0   \n",
       "2  BMW    1 Series  2011  premium unleaded (required)      300.0   \n",
       "3  BMW    1 Series  2011  premium unleaded (required)      230.0   \n",
       "4  BMW    1 Series  2011  premium unleaded (required)      230.0   \n",
       "\n",
       "   Engine Cylinders Transmission Type     Driven_Wheels  Number of Doors  \\\n",
       "0               6.0            MANUAL  rear wheel drive              2.0   \n",
       "1               6.0            MANUAL  rear wheel drive              2.0   \n",
       "2               6.0            MANUAL  rear wheel drive              2.0   \n",
       "3               6.0            MANUAL  rear wheel drive              2.0   \n",
       "4               6.0            MANUAL  rear wheel drive              2.0   \n",
       "\n",
       "                         Market Category Vehicle Size Vehicle Style  \\\n",
       "0  Factory Tuner,Luxury,High-Performance      Compact         Coupe   \n",
       "1                     Luxury,Performance      Compact   Convertible   \n",
       "2                Luxury,High-Performance      Compact         Coupe   \n",
       "3                     Luxury,Performance      Compact         Coupe   \n",
       "4                                 Luxury      Compact   Convertible   \n",
       "\n",
       "   highway MPG  city mpg  Popularity   MSRP  \n",
       "0           26        19        3916  46135  \n",
       "1           28        19        3916  40650  \n",
       "2           28        20        3916  36350  \n",
       "3           28        18        3916  29450  \n",
       "4           28        18        3916  34500  "
      ]
     },
     "execution_count": 2,
     "metadata": {},
     "output_type": "execute_result"
    }
   ],
   "source": [
    "# import the data\n",
    "car_price_init = pd.read_csv('car_price.csv')\n",
    "# print the first few rows\n",
    "car_price_init.head()"
   ]
  },
  {
   "cell_type": "markdown",
   "id": "021241a2",
   "metadata": {},
   "source": [
    "## Data Preparation\n"
   ]
  },
  {
   "cell_type": "code",
   "execution_count": 3,
   "id": "e9cb7d60",
   "metadata": {},
   "outputs": [],
   "source": [
    "# make a copy of the data\n",
    "car_price = car_price_init.copy()"
   ]
  },
  {
   "cell_type": "markdown",
   "id": "5b81b432",
   "metadata": {},
   "source": [
    "### Check data information\n",
    "\n",
    "There are 11914 entries and 16 columns with some columns having missing values"
   ]
  },
  {
   "cell_type": "code",
   "execution_count": 4,
   "id": "4bafd1d0",
   "metadata": {},
   "outputs": [
    {
     "name": "stdout",
     "output_type": "stream",
     "text": [
      "<class 'pandas.core.frame.DataFrame'>\n",
      "RangeIndex: 11914 entries, 0 to 11913\n",
      "Data columns (total 16 columns):\n",
      " #   Column             Non-Null Count  Dtype  \n",
      "---  ------             --------------  -----  \n",
      " 0   Make               11914 non-null  object \n",
      " 1   Model              11914 non-null  object \n",
      " 2   Year               11914 non-null  int64  \n",
      " 3   Engine Fuel Type   11911 non-null  object \n",
      " 4   Engine HP          11845 non-null  float64\n",
      " 5   Engine Cylinders   11884 non-null  float64\n",
      " 6   Transmission Type  11914 non-null  object \n",
      " 7   Driven_Wheels      11914 non-null  object \n",
      " 8   Number of Doors    11908 non-null  float64\n",
      " 9   Market Category    8172 non-null   object \n",
      " 10  Vehicle Size       11914 non-null  object \n",
      " 11  Vehicle Style      11914 non-null  object \n",
      " 12  highway MPG        11914 non-null  int64  \n",
      " 13  city mpg           11914 non-null  int64  \n",
      " 14  Popularity         11914 non-null  int64  \n",
      " 15  MSRP               11914 non-null  int64  \n",
      "dtypes: float64(3), int64(5), object(8)\n",
      "memory usage: 1.5+ MB\n"
     ]
    }
   ],
   "source": [
    "# check data info\n",
    "car_price.info()"
   ]
  },
  {
   "cell_type": "markdown",
   "id": "eac9fdb9",
   "metadata": {},
   "source": [
    "### Check for missing values\n",
    "\n",
    "The columns **Engine Fuel Type, Engine HP, Engine Cylinders, Number of Doors** have very few number of missing values compared to the total entries available but the **Market Category** column has too many missing values so we will have to drop this particular column and drop missing values in others "
   ]
  },
  {
   "cell_type": "code",
   "execution_count": 5,
   "id": "f0e742fa",
   "metadata": {},
   "outputs": [
    {
     "data": {
      "text/plain": [
       "Make                  0.00\n",
       "Model                 0.00\n",
       "Year                  0.00\n",
       "Engine Fuel Type      0.03\n",
       "Engine HP             0.69\n",
       "Engine Cylinders      0.30\n",
       "Transmission Type     0.00\n",
       "Driven_Wheels         0.00\n",
       "Number of Doors       0.06\n",
       "Market Category      37.42\n",
       "Vehicle Size          0.00\n",
       "Vehicle Style         0.00\n",
       "highway MPG           0.00\n",
       "city mpg              0.00\n",
       "Popularity            0.00\n",
       "MSRP                  0.00\n",
       "dtype: float64"
      ]
     },
     "execution_count": 5,
     "metadata": {},
     "output_type": "execute_result"
    }
   ],
   "source": [
    "# check for missing values\n",
    "car_price.isna().sum()/100"
   ]
  },
  {
   "cell_type": "markdown",
   "id": "55887d92",
   "metadata": {},
   "source": [
    "### Drop columns of no interest\n",
    "\n",
    "Make,\n",
    "Model,\n",
    "Year,\n",
    "Engine HP,\n",
    "Engine Cylinders,\n",
    "Transmission Type,\n",
    "Vehicle Style,\n",
    "highway MPG,\n",
    "city mpg"
   ]
  },
  {
   "cell_type": "code",
   "execution_count": 6,
   "id": "2f2212bb",
   "metadata": {},
   "outputs": [],
   "source": [
    "# initiate columns to be dropped\n",
    "# columns_drop = ['Engine Fuel Type', 'Transmission Type',\n",
    "#               'Driver Wheels', 'Number of Doors',\n",
    "#              'Market Category', 'Vehicle Size',\n",
    "#               'Popularity']\n",
    "\n",
    "# drop this columns \n",
    "car_price.drop(car_price.columns[[3, 7, 8, 9, 10, 14]], axis = 1, inplace = True)"
   ]
  },
  {
   "cell_type": "code",
   "execution_count": 7,
   "id": "0a053873",
   "metadata": {},
   "outputs": [
    {
     "data": {
      "text/html": [
       "<div>\n",
       "<style scoped>\n",
       "    .dataframe tbody tr th:only-of-type {\n",
       "        vertical-align: middle;\n",
       "    }\n",
       "\n",
       "    .dataframe tbody tr th {\n",
       "        vertical-align: top;\n",
       "    }\n",
       "\n",
       "    .dataframe thead th {\n",
       "        text-align: right;\n",
       "    }\n",
       "</style>\n",
       "<table border=\"1\" class=\"dataframe\">\n",
       "  <thead>\n",
       "    <tr style=\"text-align: right;\">\n",
       "      <th></th>\n",
       "      <th>Make</th>\n",
       "      <th>Model</th>\n",
       "      <th>Year</th>\n",
       "      <th>Engine HP</th>\n",
       "      <th>Engine Cylinders</th>\n",
       "      <th>Transmission Type</th>\n",
       "      <th>Vehicle Style</th>\n",
       "      <th>highway MPG</th>\n",
       "      <th>city mpg</th>\n",
       "      <th>MSRP</th>\n",
       "    </tr>\n",
       "  </thead>\n",
       "  <tbody>\n",
       "    <tr>\n",
       "      <th>0</th>\n",
       "      <td>BMW</td>\n",
       "      <td>1 Series M</td>\n",
       "      <td>2011</td>\n",
       "      <td>335.0</td>\n",
       "      <td>6.0</td>\n",
       "      <td>MANUAL</td>\n",
       "      <td>Coupe</td>\n",
       "      <td>26</td>\n",
       "      <td>19</td>\n",
       "      <td>46135</td>\n",
       "    </tr>\n",
       "    <tr>\n",
       "      <th>1</th>\n",
       "      <td>BMW</td>\n",
       "      <td>1 Series</td>\n",
       "      <td>2011</td>\n",
       "      <td>300.0</td>\n",
       "      <td>6.0</td>\n",
       "      <td>MANUAL</td>\n",
       "      <td>Convertible</td>\n",
       "      <td>28</td>\n",
       "      <td>19</td>\n",
       "      <td>40650</td>\n",
       "    </tr>\n",
       "    <tr>\n",
       "      <th>2</th>\n",
       "      <td>BMW</td>\n",
       "      <td>1 Series</td>\n",
       "      <td>2011</td>\n",
       "      <td>300.0</td>\n",
       "      <td>6.0</td>\n",
       "      <td>MANUAL</td>\n",
       "      <td>Coupe</td>\n",
       "      <td>28</td>\n",
       "      <td>20</td>\n",
       "      <td>36350</td>\n",
       "    </tr>\n",
       "    <tr>\n",
       "      <th>3</th>\n",
       "      <td>BMW</td>\n",
       "      <td>1 Series</td>\n",
       "      <td>2011</td>\n",
       "      <td>230.0</td>\n",
       "      <td>6.0</td>\n",
       "      <td>MANUAL</td>\n",
       "      <td>Coupe</td>\n",
       "      <td>28</td>\n",
       "      <td>18</td>\n",
       "      <td>29450</td>\n",
       "    </tr>\n",
       "    <tr>\n",
       "      <th>4</th>\n",
       "      <td>BMW</td>\n",
       "      <td>1 Series</td>\n",
       "      <td>2011</td>\n",
       "      <td>230.0</td>\n",
       "      <td>6.0</td>\n",
       "      <td>MANUAL</td>\n",
       "      <td>Convertible</td>\n",
       "      <td>28</td>\n",
       "      <td>18</td>\n",
       "      <td>34500</td>\n",
       "    </tr>\n",
       "  </tbody>\n",
       "</table>\n",
       "</div>"
      ],
      "text/plain": [
       "  Make       Model  Year  Engine HP  Engine Cylinders Transmission Type  \\\n",
       "0  BMW  1 Series M  2011      335.0               6.0            MANUAL   \n",
       "1  BMW    1 Series  2011      300.0               6.0            MANUAL   \n",
       "2  BMW    1 Series  2011      300.0               6.0            MANUAL   \n",
       "3  BMW    1 Series  2011      230.0               6.0            MANUAL   \n",
       "4  BMW    1 Series  2011      230.0               6.0            MANUAL   \n",
       "\n",
       "  Vehicle Style  highway MPG  city mpg   MSRP  \n",
       "0         Coupe           26        19  46135  \n",
       "1   Convertible           28        19  40650  \n",
       "2         Coupe           28        20  36350  \n",
       "3         Coupe           28        18  29450  \n",
       "4   Convertible           28        18  34500  "
      ]
     },
     "execution_count": 7,
     "metadata": {},
     "output_type": "execute_result"
    }
   ],
   "source": [
    "# check the resulting dataframe\n",
    "car_price.head()"
   ]
  },
  {
   "cell_type": "markdown",
   "id": "50c2aebe",
   "metadata": {},
   "source": [
    "### Replace the whitespace in the columns name with **_** "
   ]
  },
  {
   "cell_type": "code",
   "execution_count": 8,
   "id": "79d09994",
   "metadata": {},
   "outputs": [],
   "source": [
    "# replace the hitesace in column names with '_'\n",
    "car_price.columns = car_price.columns.str.replace(' ', '_').str.lower()"
   ]
  },
  {
   "cell_type": "code",
   "execution_count": 9,
   "id": "2364e095",
   "metadata": {},
   "outputs": [
    {
     "data": {
      "text/html": [
       "<div>\n",
       "<style scoped>\n",
       "    .dataframe tbody tr th:only-of-type {\n",
       "        vertical-align: middle;\n",
       "    }\n",
       "\n",
       "    .dataframe tbody tr th {\n",
       "        vertical-align: top;\n",
       "    }\n",
       "\n",
       "    .dataframe thead th {\n",
       "        text-align: right;\n",
       "    }\n",
       "</style>\n",
       "<table border=\"1\" class=\"dataframe\">\n",
       "  <thead>\n",
       "    <tr style=\"text-align: right;\">\n",
       "      <th></th>\n",
       "      <th>make</th>\n",
       "      <th>model</th>\n",
       "      <th>year</th>\n",
       "      <th>engine_hp</th>\n",
       "      <th>engine_cylinders</th>\n",
       "      <th>transmission_type</th>\n",
       "      <th>vehicle_style</th>\n",
       "      <th>highway_mpg</th>\n",
       "      <th>city_mpg</th>\n",
       "      <th>msrp</th>\n",
       "    </tr>\n",
       "  </thead>\n",
       "  <tbody>\n",
       "    <tr>\n",
       "      <th>0</th>\n",
       "      <td>BMW</td>\n",
       "      <td>1 Series M</td>\n",
       "      <td>2011</td>\n",
       "      <td>335.0</td>\n",
       "      <td>6.0</td>\n",
       "      <td>MANUAL</td>\n",
       "      <td>Coupe</td>\n",
       "      <td>26</td>\n",
       "      <td>19</td>\n",
       "      <td>46135</td>\n",
       "    </tr>\n",
       "    <tr>\n",
       "      <th>1</th>\n",
       "      <td>BMW</td>\n",
       "      <td>1 Series</td>\n",
       "      <td>2011</td>\n",
       "      <td>300.0</td>\n",
       "      <td>6.0</td>\n",
       "      <td>MANUAL</td>\n",
       "      <td>Convertible</td>\n",
       "      <td>28</td>\n",
       "      <td>19</td>\n",
       "      <td>40650</td>\n",
       "    </tr>\n",
       "  </tbody>\n",
       "</table>\n",
       "</div>"
      ],
      "text/plain": [
       "  make       model  year  engine_hp  engine_cylinders transmission_type  \\\n",
       "0  BMW  1 Series M  2011      335.0               6.0            MANUAL   \n",
       "1  BMW    1 Series  2011      300.0               6.0            MANUAL   \n",
       "\n",
       "  vehicle_style  highway_mpg  city_mpg   msrp  \n",
       "0         Coupe           26        19  46135  \n",
       "1   Convertible           28        19  40650  "
      ]
     },
     "execution_count": 9,
     "metadata": {},
     "output_type": "execute_result"
    }
   ],
   "source": [
    "# check \n",
    "car_price.head(2)"
   ]
  },
  {
   "cell_type": "markdown",
   "id": "2c86a834",
   "metadata": {},
   "source": [
    "### Replace missing values with 0\n"
   ]
  },
  {
   "cell_type": "code",
   "execution_count": 10,
   "id": "f1ce5a56",
   "metadata": {},
   "outputs": [],
   "source": [
    "# replace missing values of selected columns with 0\n",
    "columns = ['engine_hp', 'engine_cylinders']\n",
    "car_price[columns] = car_price[columns].fillna(0)"
   ]
  },
  {
   "cell_type": "code",
   "execution_count": 11,
   "id": "4d0f2e36",
   "metadata": {},
   "outputs": [
    {
     "data": {
      "text/plain": [
       "make                 0\n",
       "model                0\n",
       "year                 0\n",
       "engine_hp            0\n",
       "engine_cylinders     0\n",
       "transmission_type    0\n",
       "vehicle_style        0\n",
       "highway_mpg          0\n",
       "city_mpg             0\n",
       "msrp                 0\n",
       "dtype: int64"
      ]
     },
     "execution_count": 11,
     "metadata": {},
     "output_type": "execute_result"
    }
   ],
   "source": [
    "# check\n",
    "car_price.isna().sum()"
   ]
  },
  {
   "cell_type": "markdown",
   "id": "c8a5a6a8",
   "metadata": {},
   "source": [
    "### Rename the **msrp** colum to **price**"
   ]
  },
  {
   "cell_type": "code",
   "execution_count": 12,
   "id": "22eb3334",
   "metadata": {},
   "outputs": [],
   "source": [
    "# rename **msrp** to **price**\n",
    "car_price.rename(columns = {'msrp':'price'}, inplace = True)"
   ]
  },
  {
   "cell_type": "code",
   "execution_count": 13,
   "id": "e8a21cd6",
   "metadata": {},
   "outputs": [
    {
     "data": {
      "text/plain": [
       "'price'"
      ]
     },
     "execution_count": 13,
     "metadata": {},
     "output_type": "execute_result"
    }
   ],
   "source": [
    "# check\n",
    "car_price.columns[-1]"
   ]
  },
  {
   "cell_type": "code",
   "execution_count": 14,
   "id": "e18b92dd",
   "metadata": {},
   "outputs": [
    {
     "name": "stdout",
     "output_type": "stream",
     "text": [
      "<class 'pandas.core.frame.DataFrame'>\n",
      "RangeIndex: 11914 entries, 0 to 11913\n",
      "Data columns (total 10 columns):\n",
      " #   Column             Non-Null Count  Dtype  \n",
      "---  ------             --------------  -----  \n",
      " 0   make               11914 non-null  object \n",
      " 1   model              11914 non-null  object \n",
      " 2   year               11914 non-null  int64  \n",
      " 3   engine_hp          11914 non-null  float64\n",
      " 4   engine_cylinders   11914 non-null  float64\n",
      " 5   transmission_type  11914 non-null  object \n",
      " 6   vehicle_style      11914 non-null  object \n",
      " 7   highway_mpg        11914 non-null  int64  \n",
      " 8   city_mpg           11914 non-null  int64  \n",
      " 9   price              11914 non-null  int64  \n",
      "dtypes: float64(2), int64(4), object(4)\n",
      "memory usage: 930.9+ KB\n"
     ]
    }
   ],
   "source": [
    "car_price.info()"
   ]
  },
  {
   "cell_type": "markdown",
   "id": "861f9bd5",
   "metadata": {},
   "source": [
    "### Create a list of categorical and numerical columns"
   ]
  },
  {
   "cell_type": "code",
   "execution_count": 15,
   "id": "b9da1d13",
   "metadata": {},
   "outputs": [],
   "source": [
    "# create a list of all numeric variables\n",
    "numerical = ['year', 'engine_hp',\n",
    "             'engine_cylinders', 'highway_mpg',\n",
    "            'city_mpg', 'price']\n",
    "categorical = ['make', 'model',\n",
    "              'transmission_type', 'vehicle_style']"
   ]
  },
  {
   "cell_type": "markdown",
   "id": "e1fce3b0",
   "metadata": {},
   "source": [
    "## Exploratory Data Analysis"
   ]
  },
  {
   "cell_type": "markdown",
   "id": "e5c4a29d",
   "metadata": {},
   "source": [
    "### Question 1: What is the most frequent observation (mode) for the column transmission_type?\n",
    "\n",
    "**Automatic** is the most frequent transmission type"
   ]
  },
  {
   "cell_type": "code",
   "execution_count": 16,
   "id": "806f9e93",
   "metadata": {},
   "outputs": [
    {
     "data": {
      "text/plain": [
       "AUTOMATIC           8266\n",
       "MANUAL              2935\n",
       "AUTOMATED_MANUAL     626\n",
       "DIRECT_DRIVE          68\n",
       "UNKNOWN               19\n",
       "Name: transmission_type, dtype: int64"
      ]
     },
     "execution_count": 16,
     "metadata": {},
     "output_type": "execute_result"
    }
   ],
   "source": [
    "# what is the most frequent observation\n",
    "# for **transmission_type**\n",
    "car_price.transmission_type.value_counts()"
   ]
  },
  {
   "cell_type": "markdown",
   "id": "03eb7fad",
   "metadata": {},
   "source": [
    "### 2: Correlation Matrix\n",
    "\n",
    "+ **highway_mpg** and **city_mpg** have the highest positive correlation with each other followed by **engine_cylinders** and **engine_hp**. \n",
    "+ **engine_cylinders** and **highway_mpg** have the highest negative correlation."
   ]
  },
  {
   "cell_type": "code",
   "execution_count": 17,
   "id": "35e33a73",
   "metadata": {},
   "outputs": [
    {
     "data": {
      "text/plain": [
       "<Axes: >"
      ]
     },
     "execution_count": 17,
     "metadata": {},
     "output_type": "execute_result"
    },
    {
     "data": {
      "image/png": "[encoded data removed]",
      "text/plain": [
       "<Figure size 640x480 with 2 Axes>"
      ]
     },
     "metadata": {},
     "output_type": "display_data"
    }
   ],
   "source": [
    "# create a correlation matrix\n",
    "#plotting the heatmap for correlation\n",
    "sns.heatmap(car_price.corr(), annot=True)"
   ]
  },
  {
   "cell_type": "markdown",
   "id": "4e53f779",
   "metadata": {},
   "source": [
    "### Let make price binary"
   ]
  },
  {
   "cell_type": "code",
   "execution_count": 18,
   "id": "6c3be806",
   "metadata": {},
   "outputs": [
    {
     "data": {
      "text/plain": [
       "40594.737032063116"
      ]
     },
     "execution_count": 18,
     "metadata": {},
     "output_type": "execute_result"
    }
   ],
   "source": [
    "# get the mean price \n",
    "mean_price = car_price.price.mean()\n",
    "mean_price"
   ]
  },
  {
   "cell_type": "code",
   "execution_count": 19,
   "id": "13fce31e",
   "metadata": {},
   "outputs": [],
   "source": [
    "# create a new column **above_average** where \n",
    "# it is 1 if price is above mean value and 0 otherwise\n",
    "def map_price(price):\n",
    "  if price > mean_price:\n",
    "    return 1\n",
    "  else :\n",
    "    return 0\n",
    "\n",
    "car_price['above_average'] = car_price[\"price\"].apply(lambda price: map_price(price))\n"
   ]
  },
  {
   "cell_type": "code",
   "execution_count": 20,
   "id": "0d15d836",
   "metadata": {},
   "outputs": [
    {
     "data": {
      "text/html": [
       "<div>\n",
       "<style scoped>\n",
       "    .dataframe tbody tr th:only-of-type {\n",
       "        vertical-align: middle;\n",
       "    }\n",
       "\n",
       "    .dataframe tbody tr th {\n",
       "        vertical-align: top;\n",
       "    }\n",
       "\n",
       "    .dataframe thead th {\n",
       "        text-align: right;\n",
       "    }\n",
       "</style>\n",
       "<table border=\"1\" class=\"dataframe\">\n",
       "  <thead>\n",
       "    <tr style=\"text-align: right;\">\n",
       "      <th></th>\n",
       "      <th>make</th>\n",
       "      <th>model</th>\n",
       "      <th>year</th>\n",
       "      <th>engine_hp</th>\n",
       "      <th>engine_cylinders</th>\n",
       "      <th>transmission_type</th>\n",
       "      <th>vehicle_style</th>\n",
       "      <th>highway_mpg</th>\n",
       "      <th>city_mpg</th>\n",
       "      <th>price</th>\n",
       "      <th>above_average</th>\n",
       "    </tr>\n",
       "  </thead>\n",
       "  <tbody>\n",
       "    <tr>\n",
       "      <th>0</th>\n",
       "      <td>BMW</td>\n",
       "      <td>1 Series M</td>\n",
       "      <td>2011</td>\n",
       "      <td>335.0</td>\n",
       "      <td>6.0</td>\n",
       "      <td>MANUAL</td>\n",
       "      <td>Coupe</td>\n",
       "      <td>26</td>\n",
       "      <td>19</td>\n",
       "      <td>46135</td>\n",
       "      <td>1</td>\n",
       "    </tr>\n",
       "    <tr>\n",
       "      <th>1</th>\n",
       "      <td>BMW</td>\n",
       "      <td>1 Series</td>\n",
       "      <td>2011</td>\n",
       "      <td>300.0</td>\n",
       "      <td>6.0</td>\n",
       "      <td>MANUAL</td>\n",
       "      <td>Convertible</td>\n",
       "      <td>28</td>\n",
       "      <td>19</td>\n",
       "      <td>40650</td>\n",
       "      <td>1</td>\n",
       "    </tr>\n",
       "  </tbody>\n",
       "</table>\n",
       "</div>"
      ],
      "text/plain": [
       "  make       model  year  engine_hp  engine_cylinders transmission_type  \\\n",
       "0  BMW  1 Series M  2011      335.0               6.0            MANUAL   \n",
       "1  BMW    1 Series  2011      300.0               6.0            MANUAL   \n",
       "\n",
       "  vehicle_style  highway_mpg  city_mpg  price  above_average  \n",
       "0         Coupe           26        19  46135              1  \n",
       "1   Convertible           28        19  40650              1  "
      ]
     },
     "execution_count": 20,
     "metadata": {},
     "output_type": "execute_result"
    }
   ],
   "source": [
    "# check \n",
    "car_price.head(2)"
   ]
  },
  {
   "cell_type": "markdown",
   "id": "e4a24318",
   "metadata": {},
   "source": [
    "### Setting Up the validation Network"
   ]
  },
  {
   "cell_type": "code",
   "execution_count": 21,
   "id": "ffe02310",
   "metadata": {},
   "outputs": [
    {
     "data": {
      "text/plain": [
       "(7148, 2383, 2383)"
      ]
     },
     "execution_count": 21,
     "metadata": {},
     "output_type": "execute_result"
    }
   ],
   "source": [
    "# let split data\n",
    "# Split the data into train (60%), validation (20%), and test (20%) sets\n",
    "# setup the train and test set but we will need a validation\n",
    "# set so we will still split further\n",
    "price_full_train, price_test = train_test_split(car_price, test_size = 0.2, \n",
    "                                               random_state = 42)\n",
    "price_train, price_val = train_test_split(price_full_train, test_size = 0.25,\n",
    "                                         random_state = 1)\n",
    "\n",
    "# check length of each set, the train and validation\n",
    "# set must have the same number of rows\n",
    "len(price_train), len(price_val), len(price_test)"
   ]
  },
  {
   "cell_type": "code",
   "execution_count": 22,
   "id": "1e655d52",
   "metadata": {},
   "outputs": [],
   "source": [
    "# reset index of each dataframe\n",
    "price_train = price_train.reset_index(drop = True)\n",
    "price_val = price_val.reset_index(drop = True)\n",
    "price_test = price_test.reset_index(drop = True)"
   ]
  },
  {
   "cell_type": "code",
   "execution_count": 23,
   "id": "d9aaafe5",
   "metadata": {},
   "outputs": [],
   "source": [
    "# set your target variable - churn\n",
    "y_train = price_train.above_average.values\n",
    "y_val = price_val.above_average.values\n",
    "y_test = price_test.above_average.values"
   ]
  },
  {
   "cell_type": "code",
   "execution_count": 24,
   "id": "3229d4ba",
   "metadata": {},
   "outputs": [],
   "source": [
    "# delete the churn column from the 3 dataframe\n",
    "del price_train['above_average']\n",
    "del price_val['above_average']\n",
    "del price_test['above_average']"
   ]
  },
  {
   "cell_type": "markdown",
   "id": "3ea4609d",
   "metadata": {},
   "source": [
    "### 3: FEATURE IMPORTANCE: Mutual Information\n",
    "\n",
    "**model** column hs the HIGHEST mutual information score while **transmission_type** column has the LOWEST"
   ]
  },
  {
   "cell_type": "code",
   "execution_count": 42,
   "id": "60f43816",
   "metadata": {},
   "outputs": [],
   "source": [
    "# create function to apply it to all column \n",
    "# categorical\n",
    "def mutual_info(series):\n",
    "    return mutual_info_score(series, labels_pred = y_train)"
   ]
  },
  {
   "cell_type": "code",
   "execution_count": 43,
   "id": "c9310035",
   "metadata": {},
   "outputs": [
    {
     "data": {
      "text/plain": [
       "model                0.47\n",
       "make                 0.24\n",
       "vehicle_style        0.08\n",
       "transmission_type    0.02\n",
       "dtype: float64"
      ]
     },
     "execution_count": 43,
     "metadata": {},
     "output_type": "execute_result"
    }
   ],
   "source": [
    "# use the function to apply to all columns\n",
    "# sort the values and round values to 2 decimal values\n",
    "round((price_train[categorical].apply(mutual_info).sort_values(ascending =False)), 2)"
   ]
  },
  {
   "cell_type": "markdown",
   "id": "1318f245",
   "metadata": {},
   "source": [
    "### One Hot Encoding"
   ]
  },
  {
   "cell_type": "code",
   "execution_count": 27,
   "id": "060bcc06",
   "metadata": {},
   "outputs": [],
   "source": [
    "# generate a dictionary\n",
    "train_dicts = price_train[categorical + numerical].to_dict(orient= 'records')\n",
    "\n",
    "# initialize encoder\n",
    "dv = DictVectorizer(sparse = False)\n",
    "# fit on the train set\n",
    "X_train = dv.fit_transform(train_dicts)"
   ]
  },
  {
   "cell_type": "code",
   "execution_count": 28,
   "id": "a776c978",
   "metadata": {},
   "outputs": [],
   "source": [
    "# generate a dict for val set\n",
    "val_dicts = price_val[categorical + numerical].to_dict(orient= 'records')\n",
    "# transform this dictionary of val set\n",
    "X_val = dv.transform(val_dicts)"
   ]
  },
  {
   "cell_type": "markdown",
   "id": "cd8987d8",
   "metadata": {},
   "source": [
    "### 4: Train the model\n"
   ]
  },
  {
   "cell_type": "code",
   "execution_count": 29,
   "id": "7b3d15d6",
   "metadata": {},
   "outputs": [
    {
     "data": {
      "text/html": [
       "<style>#sk-container-id-1 {color: black;background-color: white;}#sk-container-id-1 pre{padding: 0;}#sk-container-id-1 div.sk-toggleable {background-color: white;}#sk-container-id-1 label.sk-toggleable__label {cursor: pointer;display: block;width: 100%;margin-bottom: 0;padding: 0.3em;box-sizing: border-box;text-align: center;}#sk-container-id-1 label.sk-toggleable__label-arrow:before {content: \"▸\";float: left;margin-right: 0.25em;color: #696969;}#sk-container-id-1 label.sk-toggleable__label-arrow:hover:before {color: black;}#sk-container-id-1 div.sk-estimator:hover label.sk-toggleable__label-arrow:before {color: black;}#sk-container-id-1 div.sk-toggleable__content {max-height: 0;max-width: 0;overflow: hidden;text-align: left;background-color: #f0f8ff;}#sk-container-id-1 div.sk-toggleable__content pre {margin: 0.2em;color: black;border-radius: 0.25em;background-color: #f0f8ff;}#sk-container-id-1 input.sk-toggleable__control:checked~div.sk-toggleable__content {max-height: 200px;max-width: 100%;overflow: auto;}#sk-container-id-1 input.sk-toggleable__control:checked~label.sk-toggleable__label-arrow:before {content: \"▾\";}#sk-container-id-1 div.sk-estimator input.sk-toggleable__control:checked~label.sk-toggleable__label {background-color: #d4ebff;}#sk-container-id-1 div.sk-label input.sk-toggleable__control:checked~label.sk-toggleable__label {background-color: #d4ebff;}#sk-container-id-1 input.sk-hidden--visually {border: 0;clip: rect(1px 1px 1px 1px);clip: rect(1px, 1px, 1px, 1px);height: 1px;margin: -1px;overflow: hidden;padding: 0;position: absolute;width: 1px;}#sk-container-id-1 div.sk-estimator {font-family: monospace;background-color: #f0f8ff;border: 1px dotted black;border-radius: 0.25em;box-sizing: border-box;margin-bottom: 0.5em;}#sk-container-id-1 div.sk-estimator:hover {background-color: #d4ebff;}#sk-container-id-1 div.sk-parallel-item::after {content: \"\";width: 100%;border-bottom: 1px solid gray;flex-grow: 1;}#sk-container-id-1 div.sk-label:hover label.sk-toggleable__label {background-color: #d4ebff;}#sk-container-id-1 div.sk-serial::before {content: \"\";position: absolute;border-left: 1px solid gray;box-sizing: border-box;top: 0;bottom: 0;left: 50%;z-index: 0;}#sk-container-id-1 div.sk-serial {display: flex;flex-direction: column;align-items: center;background-color: white;padding-right: 0.2em;padding-left: 0.2em;position: relative;}#sk-container-id-1 div.sk-item {position: relative;z-index: 1;}#sk-container-id-1 div.sk-parallel {display: flex;align-items: stretch;justify-content: center;background-color: white;position: relative;}#sk-container-id-1 div.sk-item::before, #sk-container-id-1 div.sk-parallel-item::before {content: \"\";position: absolute;border-left: 1px solid gray;box-sizing: border-box;top: 0;bottom: 0;left: 50%;z-index: -1;}#sk-container-id-1 div.sk-parallel-item {display: flex;flex-direction: column;z-index: 1;position: relative;background-color: white;}#sk-container-id-1 div.sk-parallel-item:first-child::after {align-self: flex-end;width: 50%;}#sk-container-id-1 div.sk-parallel-item:last-child::after {align-self: flex-start;width: 50%;}#sk-container-id-1 div.sk-parallel-item:only-child::after {width: 0;}#sk-container-id-1 div.sk-dashed-wrapped {border: 1px dashed gray;margin: 0 0.4em 0.5em 0.4em;box-sizing: border-box;padding-bottom: 0.4em;background-color: white;}#sk-container-id-1 div.sk-label label {font-family: monospace;font-weight: bold;display: inline-block;line-height: 1.2em;}#sk-container-id-1 div.sk-label-container {text-align: center;}#sk-container-id-1 div.sk-container {/* jupyter's `normalize.less` sets `[hidden] { display: none; }` but bootstrap.min.css set `[hidden] { display: none !important; }` so we also need the `!important` here to be able to override the default hidden behavior on the sphinx rendered scikit-learn.org. See: https://github.com/scikit-learn/scikit-learn/issues/21755 */display: inline-block !important;position: relative;}#sk-container-id-1 div.sk-text-repr-fallback {display: none;}</style><div id=\"sk-container-id-1\" class=\"sk-top-container\"><div class=\"sk-text-repr-fallback\"><pre>LogisticRegression(C=10, max_iter=1000, random_state=42, solver=&#x27;liblinear&#x27;)</pre><b>In a Jupyter environment, please rerun this cell to show the HTML representation or trust the notebook. <br />On GitHub, the HTML representation is unable to render, please try loading this page with nbviewer.org.</b></div><div class=\"sk-container\" hidden><div class=\"sk-item\"><div class=\"sk-estimator sk-toggleable\"><input class=\"sk-toggleable__control sk-hidden--visually\" id=\"sk-estimator-id-1\" type=\"checkbox\" checked><label for=\"sk-estimator-id-1\" class=\"sk-toggleable__label sk-toggleable__label-arrow\">LogisticRegression</label><div class=\"sk-toggleable__content\"><pre>LogisticRegression(C=10, max_iter=1000, random_state=42, solver=&#x27;liblinear&#x27;)</pre></div></div></div></div></div>"
      ],
      "text/plain": [
       "LogisticRegression(C=10, max_iter=1000, random_state=42, solver='liblinear')"
      ]
     },
     "execution_count": 29,
     "metadata": {},
     "output_type": "execute_result"
    }
   ],
   "source": [
    "# initialize logistic Regression\n",
    "log_reg = LogisticRegression(solver = 'liblinear', C = 10,\n",
    "                            max_iter = 1000, random_state = 42)\n",
    "\n",
    "# fit on the train set\n",
    "log_reg.fit(X_train, y_train)"
   ]
  },
  {
   "cell_type": "code",
   "execution_count": 30,
   "id": "15840350",
   "metadata": {},
   "outputs": [],
   "source": [
    "# predict on the validation set\n",
    "y_pred = log_reg.predict(X_val)"
   ]
  },
  {
   "cell_type": "code",
   "execution_count": 31,
   "id": "c5bd218a",
   "metadata": {},
   "outputs": [
    {
     "name": "stdout",
     "output_type": "stream",
     "text": [
      "0.9995803608896349\n"
     ]
    }
   ],
   "source": [
    "# chekc the accuracy score\n",
    "print(accuracy_score(y_val, y_pred))"
   ]
  },
  {
   "cell_type": "code",
   "execution_count": 32,
   "id": "53f1f12f",
   "metadata": {},
   "outputs": [
    {
     "name": "stdout",
     "output_type": "stream",
     "text": [
      "0.9995803608896349\n"
     ]
    }
   ],
   "source": [
    "# find the score\n",
    "print(log_reg.score(X_val, y_val))"
   ]
  },
  {
   "cell_type": "code",
   "execution_count": 33,
   "id": "2a55a7e4",
   "metadata": {},
   "outputs": [
    {
     "data": {
      "image/png": "[encoded data removed]",
      "text/plain": [
       "<Figure size 640x480 with 2 Axes>"
      ]
     },
     "metadata": {},
     "output_type": "display_data"
    }
   ],
   "source": [
    "# Confusion matrix\n",
    "conf_matrix = confusion_matrix(y_val, y_pred)\n",
    "disp = ConfusionMatrixDisplay(confusion_matrix=conf_matrix,\n",
    "                             display_labels=['below average', 'above average'])\n",
    "disp.plot()\n",
    "plt.show();"
   ]
  },
  {
   "cell_type": "markdown",
   "id": "99c4ef2c",
   "metadata": {},
   "source": [
    "### Perform Feature Importance to Select Best feature\n"
   ]
  },
  {
   "cell_type": "markdown",
   "id": "a2388ec5",
   "metadata": {},
   "source": [
    "### 6. Linear Regression"
   ]
  },
  {
   "cell_type": "code",
   "execution_count": 34,
   "id": "82b624af",
   "metadata": {},
   "outputs": [],
   "source": [
    "# new list \n",
    "numerical_new = ['year', 'engine_hp',\n",
    "             'engine_cylinders', 'highway_mpg',\n",
    "            'city_mpg']"
   ]
  },
  {
   "cell_type": "code",
   "execution_count": 35,
   "id": "91bcfd84",
   "metadata": {},
   "outputs": [],
   "source": [
    "# set the new target variable\n",
    "y_train_1 = np.log(price_train.price.values)\n",
    "y_val_1 = np.log(price_val.price.values)\n",
    "y_test_1 = np.log(price_test.price.values)"
   ]
  },
  {
   "cell_type": "code",
   "execution_count": 36,
   "id": "ddb2a88f",
   "metadata": {},
   "outputs": [],
   "source": [
    "del price_train['price']\n",
    "del price_val['price']\n",
    "del price_test['price']"
   ]
  },
  {
   "cell_type": "code",
   "execution_count": 37,
   "id": "b647d4b6",
   "metadata": {},
   "outputs": [],
   "source": [
    "# tranform the train set \n",
    "train_new_dicts = price_train[categorical + numerical_new].to_dict(orient= 'records')\n",
    "X_train_new = dv.transform(train_new_dicts)"
   ]
  },
  {
   "cell_type": "code",
   "execution_count": 38,
   "id": "f371a8d7",
   "metadata": {},
   "outputs": [],
   "source": [
    "# transform the validation set\n",
    "val_new_dicts = price_val[categorical + numerical_new].to_dict(orient= 'records')\n",
    "X_val_new = dv.transform(val_new_dicts)"
   ]
  },
  {
   "cell_type": "markdown",
   "id": "d946ad45",
   "metadata": {},
   "source": [
    "### Training The money and finding the RMSE"
   ]
  },
  {
   "cell_type": "code",
   "execution_count": 41,
   "id": "350813d8",
   "metadata": {},
   "outputs": [
    {
     "name": "stdout",
     "output_type": "stream",
     "text": [
      "Alpha:  0 RMSE:  0.475\n",
      "Alpha:  0.01 RMSE:  0.475\n",
      "Alpha:  0.1 RMSE:  0.475\n",
      "Alpha:  1 RMSE:  0.475\n",
      "Alpha:  10 RMSE:  0.475\n"
     ]
    }
   ],
   "source": [
    "alpha = [0, 0.01, 0.1, 1, 10]\n",
    "for alpha in alpha:\n",
    "    lin_reg = Ridge(solver = 'sag', random_state = 42,\n",
    "                       alpha = alpha)\n",
    "    lin_reg.fit(X_train_new, y_train_1)\n",
    "    y_pred = lin_reg.predict(X_val_new)\n",
    "    RMSE = np.sqrt(mean_squared_error(y_val_1, y_pred))\n",
    "    RMSE = np.round(RMSE, 3)\n",
    "    print('Alpha: ', alpha, 'RMSE: ', RMSE, )"
   ]
  },
  {
   "cell_type": "code",
   "execution_count": null,
   "id": "fab0397f",
   "metadata": {},
   "outputs": [],
   "source": []
  }
 ],
 "metadata": {
  "kernelspec": {
   "display_name": "Python 3 (ipykernel)",
   "language": "python",
   "name": "python3"
  },
  "language_info": {
   "codemirror_mode": {
    "name": "ipython",
    "version": 3
   },
   "file_extension": ".py",
   "mimetype": "text/x-python",
   "name": "python",
   "nbconvert_exporter": "python",
   "pygments_lexer": "ipython3",
   "version": "3.10.9"
  }
 },
 "nbformat": 4,
 "nbformat_minor": 5
}
